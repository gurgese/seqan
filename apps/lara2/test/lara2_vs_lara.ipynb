{
 "cells": [
  {
   "cell_type": "code",
   "execution_count": 1,
   "metadata": {
    "collapsed": true
   },
   "outputs": [],
   "source": [
    "import time\n",
    "import random\n",
    "import os\n",
    "import subprocess\n",
    "\n",
    "\n",
    "class ExecutionTime:\n",
    "    def __init__(self):\n",
    "        self.start_time = time.time()\n",
    "\n",
    "    def duration(self):\n",
    "        return time.time() - self.start_time\n",
    "    \n",
    "    def reset(self):\n",
    "        self.start_time = time.time()"
   ]
  },
  {
   "cell_type": "raw",
   "metadata": {},
   "source": [
    "# ---- parameters ----#"
   ]
  },
  {
   "cell_type": "code",
   "execution_count": 2,
   "metadata": {
    "collapsed": true
   },
   "outputs": [],
   "source": [
    "# select the input file to be runned\n",
    "input_file = \"rna.fasta\""
   ]
  },
  {
   "cell_type": "raw",
   "metadata": {},
   "source": [
    "# ---- run old Lara code ---- #"
   ]
  },
  {
   "cell_type": "code",
   "execution_count": 3,
   "metadata": {
    "collapsed": false
   },
   "outputs": [
    {
     "name": "stdout",
     "output_type": "stream",
     "text": [
      "Old Lara computation finished in 249.575994968 seconds.\n",
      "\n",
      "***************************************************************************\n",
      "* LaRA v1.3.2 (http://www.planet-lisa.net/)                               *\n",
      "* Created by Markus Bauer, Gunnar W. Klau, Patrick May, and Knut Reinert  *\n",
      "* January 2008                                                            *\n",
      "***************************************************************************\n",
      "\n",
      "Input instance contains FASTA sequences!\n",
      "AF1923501/1-26\tGAGGAAAGUCCCGCCUCCUGGCCUAAAGGAGUCUCUAUAGAGACAAGGGCAACACCCUUGGCAACUAUACAGAAACAAGUACCUUGAAAGCUACAUGUGAAAAUGAUUGUGCCCCUUCCUCUGGUAACGGAGGAAGAAACAUGAGAGUAGCUUUCAAGGAUGAAAAGAUAGACCUCCUAGGAGCAAGUAGAGGGAAAGAUGAGACUAGGCCCGAUUUCCCUCUAGGACGCAUAGCCAAAUCCCCCAACCAUUACAAAAGCGGGCUUA\n",
      "AF1923491/1-262\tAGGAAAGUCCCGCCUCCAGAUCAAGGGAAGUCCCGCGAGGGACAAGGGUAGUACCCUUGGCAACUGCACAGAAAACUUACCCCUAAAUAUUCAAUGAGGAUUUGAUUCGACUCUUACCUUGGCGACAAGGUAAGAUAGAUGAAGAGAAUAUUUAGGGGUUGAAACGCAGUCCUUCCCGGAGCAAGUAGGGGGGUCAAUGAGAAUGAUCUGAAGACCUCCCUUGACGCAUAGUCGAAUCCCCCAAAUACAGAAGCGGGCUUA\n",
      "AF1217731/1-303\tUAGGGGAGCCUAACAGGGGGCCACGGGAAACUGGGGAAACUCCAGCCUCUCGCCCAGGGGGAGUCCCGCGAGGGACGGGGUUAGGUGCUCCGACAACUGCACAGAAACGAGACCUGCGGUGGGCCAGAUGAAAAUGAUCAUUUACCCCAUCUGGCGACGGAUGGGAGGGUGUGAGAGACCUAUCGUGGGUUGAAACGGCAGAUCUCCCCUUGAGCAAGUAGGGGAGGAUAGGGCAAAAUGACUCCCCUGAUACGCAGAGCCUAAUCCCCCAAGUACAGAAGCUGGGUUAUUGUUAGGCUCCCC\n",
      "AE0066621/4933-4623\tUAUGGGAUCCCUAGCGGGGGUAACGGGGCAAACCCUGAGGAAACUCCGGCCUCCAACCCUUACAAGAACCCCGUAAGGGGUAGGGAUAGAAUCCCUGGCUACUACACAGAAACGAAGCCCUAAUACUAGAUAGAUGAUUGGACCUACUAGCAAGUAAUUGCUAGUAGUACAUGAUAGAUGAAAGUAUUAGGGCUUGAAACGGUAGACCUCUUGGGAGCAAGUUGAAGGGGGAUGAGCAAAGGGUUGACUCCUUAUAGUACGCUUAGUCGAAUCCCCUCAGUACAGAAGCCGGGUUAUGCUAGGGAUCCCUA\n",
      "L135971/422-736\tUAGGGGAGCCUAACAGGGGGUUACGGGAAUAUCCUGAGGAAACUCCAGCCUCCAAGCCUCAUGGGAGCAGUUAGAUCUGCAGGGUUAGUGCUCUGGCUACUGCACAGAAACGUAACCGGUAUAAUAGGAUAUGAAAAUGAGUUUAUAUGUAGUCUAGGUAACUAGGCUACAUAAAUGAGACCUAUUAUACCGGCUGAAACGGCAGUCCUCCCAGGAGCAAGUAAGGAGGGGAUGAGUUGAGGUUCAACCCUCCUAAGGACGCUUAGUAGAAUCCCCCUAAAUACAAAAGCUGGGUUAUUGUUAGGCUCCCCUUAU\n",
      "AF1923621/1-260\tGAGGAAAGUCCAGCCUCCAACCCUUACAAGAACCCCGUAAGGGGUAGGGAUAGAAUCCCUGGCUACUACACAGAAACGAAGCCCUAAUACUAGAUAGAUGAUUGGACCUACUAGCAAGUAAUUGCUAGUAGUACGAUAAUGAUGAAAGUAUUAGGGCUUGAAACGGUAGACCUCUUGGGAGCAAGUUGAAGGGGGAUGAGCAAAGGGUUGACUCCUUAUAGUACGCUUAGUCGAAUCCCCUCAGUACAAAAGCUGGCUUA\n",
      "AF1923631/1-259\tGAGGAAACUGCAGCCUCCAACCCUUACAAGAACCCCGUAAGGGGUAGGGAUAGAAUCCCUGGCUACUACACAGAAACGAAGCCCUAAUACUAGAUAGAUGAUUGGACCUACUAGCAAGUAAUUGCUAGUAGUACAUGAUAGAUGAAAGUAUUAGGACUUGAAACGGUAGACCUCUUGGGAGCAAGUUGAAGGGGGAUGAGCAAAGGGUUAGCUCCAUAUGUACGCUUAGUCGAAUCCCCUCAGUACAAAAGCUGGCUUA\n",
      "U429831/1-375\tGGCAGAGGGAGCCCGGCUGCCCGUGCCGUGAGGCAUGAGGAAAGUCCCCCCACCCGUUCGGGCACGCGGCCGGACACACGUCCGGGGCGGGAGACCGCCGGCACUGGAACAGACACGACACGUCCCUCCCACACCGAUGAGGCGCGCGACCCACCCCGAAAGGGACGGCAGUUAACCCGCCGAGGGCGUGGCCGCCACACCGGCGGCCACGGACCGGUGAUCGACACCCCAAUGGGAGGGGAGCGAUGGAACGGCCAACCCCCGCCGGUGCAAGUCCACGCGCGCAUGGUAGCCCGAACCACCCGAAAGGGGCCGCGUGGACGCUCAGCCGAAUGCCGGGCCGAACAGAAGGGGGCUUACUCCCCUCAGCUCGUA\n",
      "U429811/1-475\tGGCAGAGAGAGCCCGGCCACCGCGGCGUACCGACAGGCACACACGUGCCAGCGGGUACGCACGCGAGGAAAGUCCCCCCACCGCCGGGCAGGUGACCGGGGAAACCCCGGGACGGGAGACCGUCGGCGCUGGAACAGCAACGAGACCCCUCCACCCGACCGAUGAGGCGCGGGCGGUGGCAUCGCCACCGUCUCGGCGCGAGCGGCACGGGGUGCAUCGUGCGCCCCGAAGCGAGCGGGCACCGCCCGCGACGCAGCCGCGAGCGUGCGAACCCGACGCAAAACGGCCACUGGUCGGACAAAGCAACGGGGAGCUAACCCGCCGAGGGAUGAGGGUGGAGAACGGAUGGAACGGCGAAUCCUCACCGGUGCAAGUCCACGCCACGCGGAUCGGCCGCACGGUAGCCCGGCAGGGACGUGGACGCUCAGCCGAAUGCCGGGGCGAACAGAAGGGGGCUUACUCCUCUCAGCCAUGU\n",
      "M610031/281-714\tGGCAGAGAGAGCCCAGUUCCCGUGCCCGAGACGGGCAUGAGGAAAGUCCCCCCACCGUCCGAACGGGUGACCGGGCGCAAGCCCGGAGUCGGAGACGGCUGGCGCUGGAACAGAAACGAGACCGCUCGACCCGACCGAUGAUGCGCGCGCGACGGCUCCGCCGUCGCCGGCGCGGCCGUCACGGCCGCGUGCGAACCGACCCGUAAGGGAAGGGAGCUAACCCGCAGAGGGAUGAGGUGGCGUCGCCAUCUCCGACGGUCGAGAACGGAUGGAACGGCGAAUCCUCACCGGUGCAAGUCCGCGCCGCGAAGGGUAGUUCGGACGGCGCGUCGGGUUCGCCCGUCGCGCCCUCGGGGGGCUCGCCCCGAGAAGGACGCGGACGCUGAGCCGAAUGCUGGGACGAACAGAAGGGGGCUUACUCCUCUCAGCCGCUU\n",
      "U429821/1-358\tGGCAGAGAGAGCCCGGCCACCGCGGCGUGCCAGCAGCACGCAGCUGCCAGCGGGCACGCACGCGAGGAAAGUCCCCCCACCGCCGGGCAGGUGACCGGGGAAACCCCGGGACGGGAGACCGUCGGCGCUGGAACAGCAACGAGACCGCUCCCCCGCGAGUGGAUGACGUGGCGCGAACCGACCCGCGAGGGAAGGGAGCUAACCCACAGAACGCAGACCGGGGGAGAACGGAUGGAACGGCGAACCCUCACCGGUGCAAGUCCACGCCACGCGGCGCGAGCCGCACGGUAGCCCGGCAGGGACGUGGACGCUCAGCCGAAUGCCGGGACGAACAGAAGGGGGCUUACUCCUCUCAGCC\n",
      "Calculating base pair probability matrices for sequence 0...\n",
      "Calculating base pair probability matrices for sequence 1...\n",
      "Calculating base pair probability matrices for sequence 2...\n",
      "Calculating base pair probability matrices for sequence 3...\n",
      "Calculating base pair probability matrices for sequence 4...\n",
      "Calculating base pair probability matrices for sequence 5...\n",
      "Calculating base pair probability matrices for sequence 6...\n",
      "Calculating base pair probability matrices for sequence 7...\n",
      "Calculating base pair probability matrices for sequence 8...\n",
      "Calculating base pair probability matrices for sequence 9...\n",
      "Calculating base pair probability matrices for sequence 10...\n",
      "\n",
      "\n",
      "SEQUENCE 0 WITH 1\n",
      "SEQUENCE 0 WITH 2\n",
      "SEQUENCE 0 WITH 3\n",
      "SEQUENCE 0 WITH 4\n",
      "SEQUENCE 0 WITH 5\n",
      "SEQUENCE 0 WITH 6\n",
      "SEQUENCE 0 WITH 7\n",
      "SEQUENCE 0 WITH 8\n",
      "SEQUENCE 0 WITH 9\n",
      "SEQUENCE 0 WITH 10\n",
      "SEQUENCE 1 WITH 2\n",
      "SEQUENCE 1 WITH 3\n",
      "SEQUENCE 1 WITH 4\n",
      "SEQUENCE 1 WITH 5\n",
      "SEQUENCE 1 WITH 6\n",
      "SEQUENCE 1 WITH 7\n",
      "SEQUENCE 1 WITH 8\n",
      "SEQUENCE 1 WITH 9\n",
      "SEQUENCE 1 WITH 10\n",
      "SEQUENCE 2 WITH 3\n",
      "SEQUENCE 2 WITH 4\n",
      "SEQUENCE 2 WITH 5\n",
      "SEQUENCE 2 WITH 6\n",
      "SEQUENCE 2 WITH 7\n",
      "SEQUENCE 2 WITH 8\n",
      "SEQUENCE 2 WITH 9\n",
      "SEQUENCE 2 WITH 10\n",
      "SEQUENCE 3 WITH 4\n",
      "SEQUENCE 3 WITH 5\n",
      "SEQUENCE 3 WITH 6\n",
      "SEQUENCE 3 WITH 7\n",
      "SEQUENCE 3 WITH 8\n",
      "SEQUENCE 3 WITH 9\n",
      "SEQUENCE 3 WITH 10\n",
      "SEQUENCE 4 WITH 5\n",
      "SEQUENCE 4 WITH 6\n",
      "SEQUENCE 4 WITH 7\n",
      "SEQUENCE 4 WITH 8\n",
      "SEQUENCE 4 WITH 9\n",
      "SEQUENCE 4 WITH 10\n",
      "SEQUENCE 5 WITH 6\n",
      "SEQUENCE 5 WITH 7\n",
      "SEQUENCE 5 WITH 8\n",
      "SEQUENCE 5 WITH 9\n",
      "SEQUENCE 5 WITH 10\n",
      "SEQUENCE 6 WITH 7\n",
      "SEQUENCE 6 WITH 8\n",
      "SEQUENCE 6 WITH 9\n",
      "SEQUENCE 6 WITH 10\n",
      "SEQUENCE 7 WITH 8\n",
      "SEQUENCE 7 WITH 9\n",
      "SEQUENCE 7 WITH 10\n",
      "SEQUENCE 8 WITH 9\n",
      "SEQUENCE 8 WITH 10\n",
      "SEQUENCE 9 WITH 10\n",
      "\n",
      "\n",
      ">AF1923501/1-26\n",
      "G------------------------------------------------------------------AGGAAAGUCCCGCCUCCUGGCCUAA---AGGAGUCU-CUAUAGAGACAAGGGCAACACCCUUGGCAACUAUACAGAAACAAGUACCUUGAAAGCUACAU-GUGAAAAUGAUU--GUGCCCCUUCCUCUG----------------------------GUAACGGAGGAAGAAA-----------------------------------------------------------------------------C-AUGA-GAGUAG--------------------CUUUCAAGGAUGAAAAGAU-AGACCUCCUA-GGAGCAAGUAGAGGGAAAGAUGAG--------------------------------------------ACUAGGCCCGAUUUCCCUCUAGGACGCAUAGCCAAAUCCCCCAACCAUUACAAAAGCGGGCUUA-------------------\n",
      ">AF1923491/1-262\n",
      "-------------------------------------------------------------------AGGAAAGUCCCGCCUCCAGAUCA---AGGGAAGUCC-CGCGAGGGACAAGGGUAGUACCCUUGGCAACUGCACAGAAAACUU-ACCCCUAAAUAUUCAAUGAGGAUUUGAUU--CG-ACUCUUACCUUG----------------------------GCGACAAGGUAAGAUA-----------------------------------------------------------------------------G-AUGAAGAGAAU--------------------AUUUAGGGGUUGAAAC-GC-AGUCCUUCCC-GGAGCAAGUAGGGGGGUCAAUGAG--------------------------------------------AAUGAUCUGAAGACCUCC-CUUGACGCAUAGUCGAAUCCCCCAA---AUACAGAAGCGGGCUUA-------------------\n",
      ">AF1217731/1-303\n",
      "UAGGGG---AGCCUA-ACA-GGGGGCCA------------------------CGGG-AAA----CUGGGGAAACUCCAGCCUCUC-GCCC--AGGGGGAGUCC-CGCGAGGGACGGGGUUAGGUGCUCCGACAACUGCACAGAAACGAG-ACCUGCGGUGGGCCAG-AUGAAAAUGAUC--AU-UUACCCCAUCUG----------------------------GCGACGGAUGGGAGGG-----------------------------------------------------------------------------UG-UGAG-AGACC--------------------UAUCGUGGGUUGAAACGGC-AGAUCUCCCCUUGAGCAAGUAG-GGGAG-GA----UAGGGCAAA--AUGA-----------------CUCCC-------------------------CUGAUACGCAGAGCCUAAUCCCCCAA---GUACAGAAGCUGGGUUAUUGUUAGGCUCCCC-----\n",
      ">AE0066621/4933-4623\n",
      "UAUGGG---AUCCCUAGC--GGGGGUAA------------------------CGGGGCAAAC-CCUGAGGAAACUCCGGCCUCCAACCCU--UACAAGAACCC-CGUAAGGGGUAGGGAUAGAAUCCCUGGCUACUACACAGAAACGA--AGCCCUAAUACUAGAUA-----GAUGAUU--G-GACCUACUAGCAA----------------------------GUAAUUGCUAGUAGUA-----------------------------------------------------------------------------C-AUGAU-AGAUGAAAG----------------UAUUAGGGCUUGAAACGGU-AGACCUCUUG-GGAGCAAGUUGAAGGGG-GAUGAG--------------------------------------------CAAAGGGUUGACUCCU-UAUAGUACGCUUAGUCGAAUCCCCUCA---GUACAGAAGCCGGGUUAUGCUAGGGAUCCCU----A\n",
      ">L135971/422-736\n",
      "UAGGGG---AGCCUA-ACA-GGGGGUUA------------------------CGGGA-AUAU-CCUGAGGAAACUCCAGCCUCCAAGCCU--CAUGGGAGCAGU-UAGAUCU-GCAGGGUUAGUGCUCUGGCUACUGCACAGAAACGUAA-CCGGUAUAAUAGGAU-AUGAAAAUGAGU--UUAUAUGUAGUCUAG----------------------------GUAACUAGGCUACAUA-----------------------------------------------------------------------------A-AUGA-GACCUA--------------------UUAUACCGGCUGAAACGGC-AGUCCUCCCA-GGAGCAAGUAAGGAGGG-GAUGAG--------------------------------------------UUGAGGUUCAACCCUCCU-AAGGACGCUUAGUAGAAUCCCCCUAAAU--ACAAAAGCUGGGUUAUUGUUAGGCUCCCCUUA-U\n",
      ">AF1923621/1-260\n",
      "GAGGAA---AGUCCAGC---------------------------------------------------------------CUCCAACCCU--UACAAGAACCC-CGUAAGGGGUAGGGAUAGAAUCCCUGGCUACUACACAGAAACGA--AGCCCUAAUACUAGAUA-----GAUGAUU--G-GACCUACUAGCAA----------------------------GUAAUUGCUAGUAGUA-----------------------------------------------------------------------------CGAUAAU--GAUGAAAG----------------UAUUAGGGCUUGAAACGGU-AGACCUCUUG-GGAGCAAGUUGAAGGGG-GAUGAG--------------------------------------------CAAAGGGUUGACUCCU-UAUAGUACGCUUAGUCGAAUCCCCUCA---GUACAAAAGC-----------UGGCUU--------A\n",
      ">AF1923631/1-259\n",
      "GAGGAA---ACUGCAGC---------------------------------------------------------------CUCCAACCCU--UACAAGAACCC-CGUAAGGGGUAGGGAUAGAAUCCCUGGCUACUACACAGAAACGA--AGCCCUAAUACUAGAUA-----GAUGAUU--G-GACCUACUAGCAA----------------------------GUAAUUGCUAGUAGUA-----------------------------------------------------------------------------C-AUGAU-AGAUGAAAG----------------UAUUAGGACUUGAAACGGU-AGACCUCUUG-GGAGCAAGUUGAAGGGG-GAUGAG--------------------------------------------CAAAGGGUUAGCUCCA-UAU-GUACGCUUAGUCGAAUCCCCUCA---GUACAAAAGC-----------UGGCUU--------A\n",
      ">U429831/1-375\n",
      "GGCAGAGGGAGCCCGGCUGCCCGUG-----CCGUGA------------------------GG-CAUGAGGAAAGUCCCCCCACCCGUUCGGGCACGCGGCCGGACACACGUCCGGGGCGGGAGACCGCCGGCACUGGAACAGACACGACA-CGUCCCUCCCAC-AC-C-GAUGAGGCGCGC-----GACCCACCCC-----------GAAAGGG---ACGGCAGUUAACCCGCCGAGGGCG-UGGCCGCCACACCGGCGGCCACG---------------------GACCG------------------------------GU-GAUCG--ACACC-CCAA-----UGGGAGGGGAGCGAUGGAACGGCCAACCCCCGCC-GGUGCAAGUCCACGCGC-GCAUGGUAGCCCGA------------------------ACCACCCGAAA----------GGGGCCG-C-GUGGACGCUCAGCCGAAUGCCGGGCCGA--ACAGAAGGGGGCUUA---CUCCCCUCAGCUCGUA\n",
      ">U429811/1-475\n",
      "GGCAGAGAGAGCCCGGCCA-CCGCGGCGUACCGACAGGCACACACGUGCCAGCGGGU-ACGCACGCGAGGAAAGUCCCCCCAC-CG-CCGGGCAGGUGACCGGGG-AAACCCCGGGACGGGAGACCGUCGGCGCUGGAACAGCAACGAGA-CCCCUCCACCC-GAC-C-GAUGAGGCGCGGGCGGUGGCAUCGCCACCGUCUCGGCGCGAGCGGCACGGGGUGCAUCGUGCGCCCCG---AAGCGAGCGGGCACCGCCCGCGACGCAGCCGCGAGCGUGCGAACCCGACGCAAAACGGCCACUGGUCGGACAAAGCAA-CGGG-GAGCUAACCCGCCGAGGGAUGAGGGUGGAGAACGGAUGGAACGGCGAAUCCUCACC-GGUGCAAGUCCACGCCA----------------CGCGGAU-----------CG-GCCGC--ACGGUAG------CCCGGCAGGGAC-GUGGACGCUCAGCCGAAUGCCGGGGCGA--ACAGAAGGGGGCUUA---CUCCUCUCAGCCAUGU\n",
      ">M610031/281-714\n",
      "GGCAGAGAGAGCCCAGUUC-CCGUGCCCGA-------------------------GA-CGGG-CAUGAGGAAAGUCCCCCCAC-CGUCCGAACGGGUGACCGGGCGCAAGCCCGGAGUCGGAGACGGCUGGCGCUGGAACAGAAACGAGA-CCGCUCGACCC-GAC-C-GAUGAUGCGCGCGCGACGGCUCCGCCGUCGC--CG------------GCGCGGCCGUCACGGCCGCGUGCGAACCGACCCGUAAGGGAA-----GGGAGCUAACCCGCA--------GAGGGAUGAG----GUGGCGUCG----------------------CCAUCUCCGA-----CGGUCGAGAACGGAUGGAACGGCGAAUCCUCACC-GGUGCAAGUCCGCGCCGCGAAGGGUAGUUCGGACGGCGCGUCGGGUUCGCCCGUCGCGCCCUCGGGGGGCUCGCCCCGAGAAGGAC-GCGGACGCUGAGCCGAAUGCUGGGACGA--ACAGAAGGGGGCUUA---CUCCUCUCAGCCGCUU\n",
      ">U429821/1-358\n",
      "GGCAGAGAGAGCCCGGCCA-CCGCGGCGUGCCAGCA-GCACGCAGCUGCCAGCGGGC-ACGCACGCGAGGAAAGUCCCCCCAC-CG-CCGGGCAGGUGACCGGGG-AAACCCCGGGACGGGAGACCGUCGGCGCUGGAACAGCAACGAGA-CCGCUCCCCCGCGAG-U-G----------------------------------GAUGACGUGGCGCG----------------------AACCGACCCGCGAGGGAA-----GGGAGCUAACCCACA--------GAACGCAG------ACCGGG--------------------------------------------GGAGAACGGAUGGAACGGCGAACCCUCACC-GGUGCAAGUCCACGCCA----------------CGCGGCG-----------CGAGCCGC--ACGGUAG------CCCGGCAGGGAC-GUGGACGCUCAGCCGAAUGCCGGGACGA--ACAGAAGGGGGCUUA---CUCCUCUCAGCC----\n",
      "\n"
     ]
    }
   ],
   "source": [
    "lara_exe = os.path.join(os.getcwd(), \"lara-1.3.2\", \"lara\")\n",
    "lara_path = os.path.join(os.getcwd(), \"lara-1.3.2\")\n",
    "fasta_path = os.path.join(os.getcwd(), \"inputs\", input_file)\n",
    "\n",
    "cmd_lara = lara_exe + \" -i \" + fasta_path\n",
    "\n",
    "#enter the lara folder\n",
    "os.chdir(lara_path)\n",
    "\n",
    "#run the timer\n",
    "timer = ExecutionTime()\n",
    "#execute the old lara\n",
    "proc = subprocess.Popen([cmd_lara], stdout=subprocess.PIPE, shell=True)\n",
    "#output the old lara results\n",
    "(out, err) = proc.communicate()\n",
    "#print the time required for the operation\n",
    "print('Old Lara computation finished in {} seconds.'.format(timer.duration()))\n",
    "print (out)\n",
    "#leave the old lara folder\n",
    "os.chdir(\"..\")"
   ]
  },
  {
   "cell_type": "raw",
   "metadata": {
    "collapsed": true
   },
   "source": [
    "# ---- run Lara2 code ---- #\n",
    "# tcoffee_location -in=/tmp/tcoffeLara.lib -case=upper -output fasta -clean_seq_name 1 -outfile /tmp/tcoffeeLara.aln -newtree /tmp/tcoffeeLara.dnd 2> /dev/null > /dev/null "
   ]
  },
  {
   "cell_type": "code",
   "execution_count": 4,
   "metadata": {
    "collapsed": false
   },
   "outputs": [
    {
     "name": "stdout",
     "output_type": "stream",
     "text": [
      "TCoffee computation finished in 41.77541399 seconds.\n",
      "\n"
     ]
    }
   ],
   "source": [
    "tcoffee_path = \"./lara-1.3.2/t_coffee/t_coffee_5.05\"\n",
    "in_file_path = \"./inputs/rna.tcoffee_lib_bj.lib\"\n",
    "\n",
    "cmd_part1 = tcoffee_path + \" -in=\" + in_file_path + \" -case=upper -output fasta -clean_seq_name 1 -outfile \"\n",
    "\n",
    "out_file_path = \"./tmp/tcoffeeLara.aln\"\n",
    "tree_file_path = \"./tmp/tcoffeeLara.dnd\"\n",
    "\n",
    "cmd_tcoffee = cmd_part1 + out_file_path  + \" -newtree \" + tree_file_path + \" 2> /dev/null > /dev/null \"\n",
    "\n",
    "#run the timer\n",
    "timer = ExecutionTime()\n",
    "#execute the tcoffee\n",
    "proc = subprocess.Popen([cmd_tcoffee], stdout=subprocess.PIPE, shell=True)\n",
    "#output the tcoffee results\n",
    "(out, err) = proc.communicate()\n",
    "#print the time required for the operation\n",
    "print('TCoffee computation finished in {} seconds.'.format(timer.duration()))\n",
    "print (out)\n"
   ]
  },
  {
   "cell_type": "code",
   "execution_count": 12,
   "metadata": {
    "collapsed": false
   },
   "outputs": [
    {
     "name": "stdout",
     "output_type": "stream",
     "text": [
      "Lara2 computation finished in 6.38614296913 seconds.\n",
      "../cmake-build-release/laragu -i /apps/lara2/test/inputs/rna.fasta -t 2 -a -lgo -2 -lge -1 -lbm 1 -ssc 10 -tcm 2 -tb 0.2 -v 0 -td ./tmp\n"
     ]
    }
   ],
   "source": [
    "lara2_path = \"../cmake-build-release/laragu\"\n",
    "fasta_path2 = os.path.join(\"/apps/lara2/\", \"test\", \"inputs\", input_file)\n",
    "\n",
    "cmd_lara2 = lara2_path + \" -i \" + fasta_path2 + \" -t 2 -a -lgo -2 -lge -1 -lbm 1 -ssc 10 -tcm 2 -tb 0.2 -v 0 -td ./tmp\"\n",
    "#TODO check the lara program with this input file\n",
    "#run the timer\n",
    "timer = ExecutionTime()\n",
    "#execute the lara2\n",
    "proc = subprocess.Popen([cmd_lara2], stdout=subprocess.PIPE, shell=True)\n",
    "#output the lara2 results\n",
    "(out, err) = proc.communicate()\n",
    "#print the time required for the operation\n",
    "print('Lara2 computation finished in {} seconds.'.format(timer.duration()))\n",
    "#print (out)\n",
    "print (cmd_lara2)"
   ]
  },
  {
   "cell_type": "code",
   "execution_count": null,
   "metadata": {
    "collapsed": true
   },
   "outputs": [],
   "source": []
  }
 ],
 "metadata": {
  "kernelspec": {
   "display_name": "Python 2",
   "language": "python",
   "name": "python2"
  },
  "language_info": {
   "codemirror_mode": {
    "name": "ipython",
    "version": 2
   },
   "file_extension": ".py",
   "mimetype": "text/x-python",
   "name": "python",
   "nbconvert_exporter": "python",
   "pygments_lexer": "ipython2",
   "version": "2.7.12"
  }
 },
 "nbformat": 4,
 "nbformat_minor": 1
}
