{
 "cells": [
  {
   "cell_type": "code",
   "execution_count": 1,
   "metadata": {
    "collapsed": true
   },
   "outputs": [],
   "source": [
    "import time\n",
    "import random\n",
    "import os\n",
    "import subprocess\n",
    "\n",
    "\n",
    "class ExecutionTime:\n",
    "    def __init__(self):\n",
    "        self.start_time = time.time()\n",
    "\n",
    "    def duration(self):\n",
    "        return time.time() - self.start_time\n",
    "    \n",
    "    def reset(self):\n",
    "        self.start_time = time.time()"
   ]
  },
  {
   "cell_type": "markdown",
   "metadata": {},
   "source": [
    "# ---- parameters ----#"
   ]
  },
  {
   "cell_type": "code",
   "execution_count": 2,
   "metadata": {
    "collapsed": true
   },
   "outputs": [],
   "source": [
    "# select the input file to be runned\n",
    "input_file = \"rna.fasta\""
   ]
  },
  {
   "cell_type": "markdown",
   "metadata": {},
   "source": [
    "# ---- run old Lara code ---- #"
   ]
  },
  {
   "cell_type": "code",
   "execution_count": 3,
   "metadata": {
    "collapsed": false,
    "scrolled": true
   },
   "outputs": [
    {
     "name": "stdout",
     "output_type": "stream",
     "text": [
      "Old Lara computation finished in 237.487302065 seconds.\n"
     ]
    }
   ],
   "source": [
    "lara_exe = os.path.join(os.getcwd(), \"lara-1.3.2\", \"lara\")\n",
    "lara_path = os.path.join(os.getcwd(), \"lara-1.3.2\")\n",
    "fasta_path = os.path.join(os.getcwd(), \"inputs\", input_file)\n",
    "\n",
    "cmd_lara = lara_exe + \" -i \" + fasta_path\n",
    "\n",
    "#enter the lara folder\n",
    "os.chdir(lara_path)\n",
    "\n",
    "#run the timer\n",
    "timer = ExecutionTime()\n",
    "#execute the old lara\n",
    "proc = subprocess.Popen([cmd_lara], stdout=subprocess.PIPE, shell=True)\n",
    "#output the old lara results\n",
    "(out, err) = proc.communicate()\n",
    "#print the time required for the operation\n",
    "print('Old Lara computation finished in {} seconds.'.format(timer.duration()))\n",
    "#print (out)\n",
    "\n",
    "# Extract the fasta output only from the Old Lara output\n",
    "j = 0\n",
    "out_fasta = list()\n",
    "out_splitted = out.split('\\n')\n",
    "for i in range(len(out_splitted)):\n",
    "    if(len(out_splitted[i])>0):\n",
    "        if(out_splitted[i][0]=='>'):\n",
    "            out_fasta.append(out_splitted[i])\n",
    "            out_fasta.append(out_splitted[i+1])\n",
    "            i = i+1\n",
    "            \n",
    "#leave the old lara folder\n",
    "os.chdir(\"..\")"
   ]
  },
  {
   "cell_type": "markdown",
   "metadata": {},
   "source": [
    "## Convert the Fasta file format in the ClustalW (to be complient with the formata available in the refs of bralibase) \n"
   ]
  },
  {
   "cell_type": "code",
   "execution_count": 22,
   "metadata": {
    "collapsed": false
   },
   "outputs": [],
   "source": [
    "import io\n",
    "from Bio import AlignIO\n",
    "\n",
    "def iterable_to_stream(iterable, buffer_size=io.DEFAULT_BUFFER_SIZE):\n",
    "    \"\"\"\n",
    "    Lets you use an iterable (e.g. a generator) that yields bytestrings as a read-only\n",
    "    input stream.\n",
    "\n",
    "    The stream implements Python 3's newer I/O API (available in Python 2's io module).\n",
    "    For efficiency, the stream is buffered.\n",
    "    \"\"\"\n",
    "    class IterStream(io.RawIOBase):\n",
    "        def __init__(self):\n",
    "            self.leftover = None\n",
    "        def readable(self):\n",
    "            return True\n",
    "        def readinto(self, b):\n",
    "            try:\n",
    "                l = len(b)  # We're supposed to return at most this much\n",
    "                chunk = self.leftover or next(iterable)\n",
    "                output, self.leftover = chunk[:l], chunk[l:]\n",
    "                b[:len(output)] = output\n",
    "                return len(output)\n",
    "            except StopIteration:\n",
    "                return 0    # indicate EOF\n",
    "    return io.BufferedReader(IterStream(), buffer_size=buffer_size)\n",
    "\n",
    "input_handle = iterable_to_stream((str(string + '\\n').encode('utf8') for string in out_fasta))\n",
    "output_handle = open(\"./tmp/tcoffeeLaraOld.clustalw\", \"w\")\n",
    "\n",
    "alignments = AlignIO.parse(input_handle, \"fasta\")\n",
    "AlignIO.write(alignments, output_handle, \"clustal\")\n",
    "#AlignIO.write(alignments, output_handle2, \"stockholm\")\n",
    "output_handle.close()"
   ]
  },
  {
   "cell_type": "markdown",
   "metadata": {
    "collapsed": true
   },
   "source": [
    "# ---- run Lara2 ---- #"
   ]
  },
  {
   "cell_type": "code",
   "execution_count": 23,
   "metadata": {
    "collapsed": false
   },
   "outputs": [
    {
     "name": "stdout",
     "output_type": "stream",
     "text": [
      "Lara2 computation finished in 2.94378399849 seconds.\n",
      "../cmake-build-release/laragu -i inputs/rna.fasta -t 2 -a -lgo -2 -lge -1 -lbm 1 -ssc 10 -tcm 2 -tb 0.2 -v 0 -td ./tmp\n"
     ]
    }
   ],
   "source": [
    "lara2_path = \"../cmake-build-release/laragu\"\n",
    "fasta_path2 = os.path.join(\"inputs\", input_file)\n",
    "\n",
    "cmd_lara2 = lara2_path + \" -i \" + fasta_path2 + \" -t 2 -a -lgo -2 -lge -1 -lbm 1 -ssc 10 -tcm 2 -tb 0.2 -v 0 -td ./tmp\"\n",
    "#TODO check the lara program with this input file\n",
    "#run the timer\n",
    "timer = ExecutionTime()\n",
    "#execute the lara2\n",
    "proc = subprocess.Popen([cmd_lara2], stdout=subprocess.PIPE, shell=True)\n",
    "#output the lara2 results\n",
    "(out, err) = proc.communicate()\n",
    "#print the time required for the operation\n",
    "print('Lara2 computation finished in {} seconds.'.format(timer.duration()))\n",
    "#print (out)\n",
    "print (cmd_lara2)"
   ]
  },
  {
   "cell_type": "markdown",
   "metadata": {},
   "source": [
    "# ---- run old t-coffee src ---- #\n",
    "tcoffee_location -in=/tmp/tcoffeLara.lib -case=upper -output fasta -clean_seq_name 1 -outfile /tmp/tcoffeeLara.aln -newtree /tmp/tcoffeeLara.dnd 2> /dev/null > /dev/null "
   ]
  },
  {
   "cell_type": "code",
   "execution_count": 25,
   "metadata": {
    "collapsed": false
   },
   "outputs": [
    {
     "name": "stdout",
     "output_type": "stream",
     "text": [
      "TCoffee computation finished in 29.3483650684 seconds.\n",
      "./lara-1.3.2/t_coffee/t_coffee_5.05 -in=./tmp/tcoffeLara.lib -case=upper -output clustal -clean_seq_name 1 -outfile ./tmp/tcoffeeOldLara.aln -newtree ./tmp/tcoffeeOldLara.dnd\n"
     ]
    }
   ],
   "source": [
    "tcoffee_path = \"./lara-1.3.2/t_coffee/t_coffee_5.05\"\n",
    "in_file_path =  \"./tmp/tcoffeLara.lib\"\n",
    "\n",
    "cmd_part1 = tcoffee_path + \" -in=\" + in_file_path + \" -case=upper -output clustal -clean_seq_name 1 -outfile \"\n",
    "\n",
    "out_file_path = \"./tmp/tcoffeeOldLara.aln\"\n",
    "tree_file_path = \"./tmp/tcoffeeOldLara.dnd\"\n",
    "\n",
    "#os.mkdir(\"mkdir ~/.t_coffee 2> /dev/null\")\n",
    "cmd_tcoffee = cmd_part1 + out_file_path  + \" -newtree \" + tree_file_path #+ \" 2> /dev/null > /dev/null \"\n",
    "\n",
    "#run the timer\n",
    "timer = ExecutionTime()\n",
    "#execute the tcoffee\n",
    "proc = subprocess.Popen([cmd_tcoffee], stdout=subprocess.PIPE, shell=True)\n",
    "#output the tcoffee results\n",
    "(out, err) = proc.communicate()\n",
    "#print the time required for the operation\n",
    "print('TCoffee computation finished in {} seconds.'.format(timer.duration()))\n",
    "#print (out)\n",
    "print (cmd_tcoffee)"
   ]
  },
  {
   "cell_type": "markdown",
   "metadata": {},
   "source": [
    "# ---- run new seqan::t-coffee src ---- #"
   ]
  },
  {
   "cell_type": "code",
   "execution_count": 26,
   "metadata": {
    "collapsed": false
   },
   "outputs": [
    {
     "name": "stdout",
     "output_type": "stream",
     "text": [
      "TCoffee computation finished in 0.234289884567 seconds.\n",
      "\n",
      "seqan_tcoffee -s ./inputs/rna.fasta -l ./tmp/tcoffeLara.lib -m global -a rna  -o ./tmp/tcoffeeLara.msf -b wavg \n"
     ]
    }
   ],
   "source": [
    "tcoffee_path = \"seqan_tcoffee\"\n",
    "in_file_path = \"./tmp/tcoffeLara.lib\"\n",
    "\n",
    "cmd_part1new = tcoffee_path + \" -s ./inputs/\" + input_file + \" -l \" + in_file_path + \" -m global -a rna \"\n",
    "\n",
    "out_file_path_tc2 = \"./tmp/tcoffeeLara.msf\"\n",
    "\n",
    "cmd_tcoffeeNew = cmd_part1new + \" -o \" + out_file_path_tc2 + \" -b wavg \"\n",
    "\n",
    "#run the timer\n",
    "timer = ExecutionTime()\n",
    "#execute the tcoffee\n",
    "proc = subprocess.Popen([cmd_tcoffeeNew], stdout=subprocess.PIPE, shell=True)\n",
    "#output the tcoffee results\n",
    "(out, err) = proc.communicate()\n",
    "#print the time required for the operation\n",
    "print('TCoffee computation finished in {} seconds.'.format(timer.duration()))\n",
    "print (out)\n",
    "print (cmd_tcoffeeNew)"
   ]
  },
  {
   "cell_type": "markdown",
   "metadata": {},
   "source": [
    "## Compute consensus structure with: i) RNAalifold, ii) ipknot, iii) centroid-rna"
   ]
  },
  {
   "cell_type": "markdown",
   "metadata": {},
   "source": [
    "## RNAalifold consensus structure"
   ]
  },
  {
   "cell_type": "code",
   "execution_count": null,
   "metadata": {
    "collapsed": true
   },
   "outputs": [],
   "source": []
  },
  {
   "cell_type": "markdown",
   "metadata": {},
   "source": [
    "## Ipknot consensus structure"
   ]
  },
  {
   "cell_type": "code",
   "execution_count": null,
   "metadata": {
    "collapsed": true
   },
   "outputs": [],
   "source": []
  },
  {
   "cell_type": "markdown",
   "metadata": {},
   "source": [
    "# Visualize the computed structures vit Jviz and ..."
   ]
  },
  {
   "cell_type": "markdown",
   "metadata": {},
   "source": [
    "# Test AlignIO module for fileformat conversion Fasta -> Clustalw"
   ]
  },
  {
   "cell_type": "code",
   "execution_count": 20,
   "metadata": {
    "collapsed": false
   },
   "outputs": [
    {
     "name": "stdout",
     "output_type": "stream",
     "text": [
      "SingleLetterAlphabet() alignment with 11 rows and 532 columns\n",
      "uauggg---aucccuagc--ggggguaa----------------...--a AE0066621/4933-4623\n",
      "gaggaa---aguccagc---------------------------...--a AF1923621/1-260\n",
      "gaggaa---acugcagc---------------------------...--a AF1923631/1-259\n",
      "--------------------------------------------...--- AF1923491/1-262\n",
      "g-------------------------------------------...--- AF1923501/1-26\n",
      "uagggg---agccua-aca-ggggguua----------------...a-u L135971/422-736\n",
      "ggcagagagagcccaguuc-ccgugcccga--------------...cuu M610031/281-714\n",
      "ggcagagagagcccggcca-ccgcggcguaccgacaggcacaca...ugu U429811/1-475\n",
      "ggcagagagagcccggcca-ccgcggcgugccagca-gcacgca...--- U429821/1-358\n",
      "ggcagagggagcccggcugcccgug-----ccguga--------...gua U429831/1-375\n",
      "uagggg---agccua-aca-gggggcca----------------...--- AF1217731/1-303\n"
     ]
    }
   ],
   "source": [
    "from Bio import AlignIO\n",
    "align = AlignIO.read(\"./tmp/old/tcoffeeLara.aln\", \"fasta\")\n",
    "print(align)"
   ]
  },
  {
   "cell_type": "code",
   "execution_count": 23,
   "metadata": {
    "collapsed": true
   },
   "outputs": [],
   "source": [
    "input_handle = open(\"./tmp/old/tcoffeeLara.aln\", \"rU\")\n",
    "output_handle = open(\"./tmp/old/tcoffeeLara.clustalw\", \"w\")\n",
    "#output_handle2 = open(\"./tmp/old/tcoffeeLara.stk\", \"w\")\n",
    "\n",
    "alignments = AlignIO.parse(input_handle, \"fasta\")\n",
    "AlignIO.write(alignments, output_handle, \"clustal\")\n",
    "#AlignIO.write(alignments, output_handle2, \"stockholm\")\n",
    "\n",
    "output_handle.close()\n",
    "input_handle.close()\n"
   ]
  }
 ],
 "metadata": {
  "kernelspec": {
   "display_name": "Python 2",
   "language": "python",
   "name": "python2"
  },
  "language_info": {
   "codemirror_mode": {
    "name": "ipython",
    "version": 2
   },
   "file_extension": ".py",
   "mimetype": "text/x-python",
   "name": "python",
   "nbconvert_exporter": "python",
   "pygments_lexer": "ipython2",
   "version": "2.7.12"
  }
 },
 "nbformat": 4,
 "nbformat_minor": 1
}
