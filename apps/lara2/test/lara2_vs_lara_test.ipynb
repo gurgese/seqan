{
 "cells": [
  {
   "cell_type": "code",
   "execution_count": 1,
   "metadata": {
    "collapsed": true
   },
   "outputs": [],
   "source": [
    "import time\n",
    "import random\n",
    "import os\n",
    "import subprocess\n",
    "\n",
    "\n",
    "class ExecutionTime:\n",
    "    def __init__(self):\n",
    "        self.start_time = time.time()\n",
    "\n",
    "    def duration(self):\n",
    "        return time.time() - self.start_time\n",
    "    \n",
    "    def reset(self):\n",
    "        self.start_time = time.time()"
   ]
  },
  {
   "cell_type": "markdown",
   "metadata": {},
   "source": [
    "# ---- parameters ----#"
   ]
  },
  {
   "cell_type": "code",
   "execution_count": 3,
   "metadata": {
    "collapsed": true
   },
   "outputs": [],
   "source": [
    "# select the input file to be runned\n",
    "input_file = \"rna.fasta\""
   ]
  },
  {
   "cell_type": "markdown",
   "metadata": {},
   "source": [
    "# ---- run old Lara code ---- #"
   ]
  },
  {
   "cell_type": "code",
   "execution_count": 3,
   "metadata": {
    "collapsed": false,
    "scrolled": true
   },
   "outputs": [
    {
     "name": "stdout",
     "output_type": "stream",
     "text": [
      "Old Lara computation finished in 238.567941904 seconds.\n",
      "\n",
      "***************************************************************************\n",
      "* LaRA v1.3.2 (http://www.planet-lisa.net/)                               *\n",
      "* Created by Markus Bauer, Gunnar W. Klau, Patrick May, and Knut Reinert  *\n",
      "* January 2008                                                            *\n",
      "***************************************************************************\n",
      "\n",
      "Input instance contains FASTA sequences!\n",
      "AF1923501/1-26\tGAGGAAAGUCCCGCCUCCUGGCCUAAAGGAGUCUCUAUAGAGACAAGGGCAACACCCUUGGCAACUAUACAGAAACAAGUACCUUGAAAGCUACAUGUGAAAAUGAUUGUGCCCCUUCCUCUGGUAACGGAGGAAGAAACAUGAGAGUAGCUUUCAAGGAUGAAAAGAUAGACCUCCUAGGAGCAAGUAGAGGGAAAGAUGAGACUAGGCCCGAUUUCCCUCUAGGACGCAUAGCCAAAUCCCCCAACCAUUACAAAAGCGGGCUUA\n",
      "AF1923491/1-262\tAGGAAAGUCCCGCCUCCAGAUCAAGGGAAGUCCCGCGAGGGACAAGGGUAGUACCCUUGGCAACUGCACAGAAAACUUACCCCUAAAUAUUCAAUGAGGAUUUGAUUCGACUCUUACCUUGGCGACAAGGUAAGAUAGAUGAAGAGAAUAUUUAGGGGUUGAAACGCAGUCCUUCCCGGAGCAAGUAGGGGGGUCAAUGAGAAUGAUCUGAAGACCUCCCUUGACGCAUAGUCGAAUCCCCCAAAUACAGAAGCGGGCUUA\n",
      "AF1217731/1-303\tUAGGGGAGCCUAACAGGGGGCCACGGGAAACUGGGGAAACUCCAGCCUCUCGCCCAGGGGGAGUCCCGCGAGGGACGGGGUUAGGUGCUCCGACAACUGCACAGAAACGAGACCUGCGGUGGGCCAGAUGAAAAUGAUCAUUUACCCCAUCUGGCGACGGAUGGGAGGGUGUGAGAGACCUAUCGUGGGUUGAAACGGCAGAUCUCCCCUUGAGCAAGUAGGGGAGGAUAGGGCAAAAUGACUCCCCUGAUACGCAGAGCCUAAUCCCCCAAGUACAGAAGCUGGGUUAUUGUUAGGCUCCCC\n",
      "AE0066621/4933-4623\tUAUGGGAUCCCUAGCGGGGGUAACGGGGCAAACCCUGAGGAAACUCCGGCCUCCAACCCUUACAAGAACCCCGUAAGGGGUAGGGAUAGAAUCCCUGGCUACUACACAGAAACGAAGCCCUAAUACUAGAUAGAUGAUUGGACCUACUAGCAAGUAAUUGCUAGUAGUACAUGAUAGAUGAAAGUAUUAGGGCUUGAAACGGUAGACCUCUUGGGAGCAAGUUGAAGGGGGAUGAGCAAAGGGUUGACUCCUUAUAGUACGCUUAGUCGAAUCCCCUCAGUACAGAAGCCGGGUUAUGCUAGGGAUCCCUA\n",
      "L135971/422-736\tUAGGGGAGCCUAACAGGGGGUUACGGGAAUAUCCUGAGGAAACUCCAGCCUCCAAGCCUCAUGGGAGCAGUUAGAUCUGCAGGGUUAGUGCUCUGGCUACUGCACAGAAACGUAACCGGUAUAAUAGGAUAUGAAAAUGAGUUUAUAUGUAGUCUAGGUAACUAGGCUACAUAAAUGAGACCUAUUAUACCGGCUGAAACGGCAGUCCUCCCAGGAGCAAGUAAGGAGGGGAUGAGUUGAGGUUCAACCCUCCUAAGGACGCUUAGUAGAAUCCCCCUAAAUACAAAAGCUGGGUUAUUGUUAGGCUCCCCUUAU\n",
      "AF1923621/1-260\tGAGGAAAGUCCAGCCUCCAACCCUUACAAGAACCCCGUAAGGGGUAGGGAUAGAAUCCCUGGCUACUACACAGAAACGAAGCCCUAAUACUAGAUAGAUGAUUGGACCUACUAGCAAGUAAUUGCUAGUAGUACGAUAAUGAUGAAAGUAUUAGGGCUUGAAACGGUAGACCUCUUGGGAGCAAGUUGAAGGGGGAUGAGCAAAGGGUUGACUCCUUAUAGUACGCUUAGUCGAAUCCCCUCAGUACAAAAGCUGGCUUA\n",
      "AF1923631/1-259\tGAGGAAACUGCAGCCUCCAACCCUUACAAGAACCCCGUAAGGGGUAGGGAUAGAAUCCCUGGCUACUACACAGAAACGAAGCCCUAAUACUAGAUAGAUGAUUGGACCUACUAGCAAGUAAUUGCUAGUAGUACAUGAUAGAUGAAAGUAUUAGGACUUGAAACGGUAGACCUCUUGGGAGCAAGUUGAAGGGGGAUGAGCAAAGGGUUAGCUCCAUAUGUACGCUUAGUCGAAUCCCCUCAGUACAAAAGCUGGCUUA\n",
      "U429831/1-375\tGGCAGAGGGAGCCCGGCUGCCCGUGCCGUGAGGCAUGAGGAAAGUCCCCCCACCCGUUCGGGCACGCGGCCGGACACACGUCCGGGGCGGGAGACCGCCGGCACUGGAACAGACACGACACGUCCCUCCCACACCGAUGAGGCGCGCGACCCACCCCGAAAGGGACGGCAGUUAACCCGCCGAGGGCGUGGCCGCCACACCGGCGGCCACGGACCGGUGAUCGACACCCCAAUGGGAGGGGAGCGAUGGAACGGCCAACCCCCGCCGGUGCAAGUCCACGCGCGCAUGGUAGCCCGAACCACCCGAAAGGGGCCGCGUGGACGCUCAGCCGAAUGCCGGGCCGAACAGAAGGGGGCUUACUCCCCUCAGCUCGUA\n",
      "U429811/1-475\tGGCAGAGAGAGCCCGGCCACCGCGGCGUACCGACAGGCACACACGUGCCAGCGGGUACGCACGCGAGGAAAGUCCCCCCACCGCCGGGCAGGUGACCGGGGAAACCCCGGGACGGGAGACCGUCGGCGCUGGAACAGCAACGAGACCCCUCCACCCGACCGAUGAGGCGCGGGCGGUGGCAUCGCCACCGUCUCGGCGCGAGCGGCACGGGGUGCAUCGUGCGCCCCGAAGCGAGCGGGCACCGCCCGCGACGCAGCCGCGAGCGUGCGAACCCGACGCAAAACGGCCACUGGUCGGACAAAGCAACGGGGAGCUAACCCGCCGAGGGAUGAGGGUGGAGAACGGAUGGAACGGCGAAUCCUCACCGGUGCAAGUCCACGCCACGCGGAUCGGCCGCACGGUAGCCCGGCAGGGACGUGGACGCUCAGCCGAAUGCCGGGGCGAACAGAAGGGGGCUUACUCCUCUCAGCCAUGU\n",
      "M610031/281-714\tGGCAGAGAGAGCCCAGUUCCCGUGCCCGAGACGGGCAUGAGGAAAGUCCCCCCACCGUCCGAACGGGUGACCGGGCGCAAGCCCGGAGUCGGAGACGGCUGGCGCUGGAACAGAAACGAGACCGCUCGACCCGACCGAUGAUGCGCGCGCGACGGCUCCGCCGUCGCCGGCGCGGCCGUCACGGCCGCGUGCGAACCGACCCGUAAGGGAAGGGAGCUAACCCGCAGAGGGAUGAGGUGGCGUCGCCAUCUCCGACGGUCGAGAACGGAUGGAACGGCGAAUCCUCACCGGUGCAAGUCCGCGCCGCGAAGGGUAGUUCGGACGGCGCGUCGGGUUCGCCCGUCGCGCCCUCGGGGGGCUCGCCCCGAGAAGGACGCGGACGCUGAGCCGAAUGCUGGGACGAACAGAAGGGGGCUUACUCCUCUCAGCCGCUU\n",
      "U429821/1-358\tGGCAGAGAGAGCCCGGCCACCGCGGCGUGCCAGCAGCACGCAGCUGCCAGCGGGCACGCACGCGAGGAAAGUCCCCCCACCGCCGGGCAGGUGACCGGGGAAACCCCGGGACGGGAGACCGUCGGCGCUGGAACAGCAACGAGACCGCUCCCCCGCGAGUGGAUGACGUGGCGCGAACCGACCCGCGAGGGAAGGGAGCUAACCCACAGAACGCAGACCGGGGGAGAACGGAUGGAACGGCGAACCCUCACCGGUGCAAGUCCACGCCACGCGGCGCGAGCCGCACGGUAGCCCGGCAGGGACGUGGACGCUCAGCCGAAUGCCGGGACGAACAGAAGGGGGCUUACUCCUCUCAGCC\n",
      "Calculating base pair probability matrices for sequence 0...\n",
      "Calculating base pair probability matrices for sequence 1...\n",
      "Calculating base pair probability matrices for sequence 2...\n",
      "Calculating base pair probability matrices for sequence 3...\n",
      "Calculating base pair probability matrices for sequence 4...\n",
      "Calculating base pair probability matrices for sequence 5...\n",
      "Calculating base pair probability matrices for sequence 6...\n",
      "Calculating base pair probability matrices for sequence 7...\n",
      "Calculating base pair probability matrices for sequence 8...\n",
      "Calculating base pair probability matrices for sequence 9...\n",
      "Calculating base pair probability matrices for sequence 10...\n",
      "\n",
      "\n",
      "SEQUENCE 0 WITH 1\n",
      "SEQUENCE 0 WITH 2\n",
      "SEQUENCE 0 WITH 3\n",
      "SEQUENCE 0 WITH 4\n",
      "SEQUENCE 0 WITH 5\n",
      "SEQUENCE 0 WITH 6\n",
      "SEQUENCE 0 WITH 7\n",
      "SEQUENCE 0 WITH 8\n",
      "SEQUENCE 0 WITH 9\n",
      "SEQUENCE 0 WITH 10\n",
      "SEQUENCE 1 WITH 2\n",
      "SEQUENCE 1 WITH 3\n",
      "SEQUENCE 1 WITH 4\n",
      "SEQUENCE 1 WITH 5\n",
      "SEQUENCE 1 WITH 6\n",
      "SEQUENCE 1 WITH 7\n",
      "SEQUENCE 1 WITH 8\n",
      "SEQUENCE 1 WITH 9\n",
      "SEQUENCE 1 WITH 10\n",
      "SEQUENCE 2 WITH 3\n",
      "SEQUENCE 2 WITH 4\n",
      "SEQUENCE 2 WITH 5\n",
      "SEQUENCE 2 WITH 6\n",
      "SEQUENCE 2 WITH 7\n",
      "SEQUENCE 2 WITH 8\n",
      "SEQUENCE 2 WITH 9\n",
      "SEQUENCE 2 WITH 10\n",
      "SEQUENCE 3 WITH 4\n",
      "SEQUENCE 3 WITH 5\n",
      "SEQUENCE 3 WITH 6\n",
      "SEQUENCE 3 WITH 7\n",
      "SEQUENCE 3 WITH 8\n",
      "SEQUENCE 3 WITH 9\n",
      "SEQUENCE 3 WITH 10\n",
      "SEQUENCE 4 WITH 5\n",
      "SEQUENCE 4 WITH 6\n",
      "SEQUENCE 4 WITH 7\n",
      "SEQUENCE 4 WITH 8\n",
      "SEQUENCE 4 WITH 9\n",
      "SEQUENCE 4 WITH 10\n",
      "SEQUENCE 5 WITH 6\n",
      "SEQUENCE 5 WITH 7\n",
      "SEQUENCE 5 WITH 8\n",
      "SEQUENCE 5 WITH 9\n",
      "SEQUENCE 5 WITH 10\n",
      "SEQUENCE 6 WITH 7\n",
      "SEQUENCE 6 WITH 8\n",
      "SEQUENCE 6 WITH 9\n",
      "SEQUENCE 6 WITH 10\n",
      "SEQUENCE 7 WITH 8\n",
      "SEQUENCE 7 WITH 9\n",
      "SEQUENCE 7 WITH 10\n",
      "SEQUENCE 8 WITH 9\n",
      "SEQUENCE 8 WITH 10\n",
      "SEQUENCE 9 WITH 10\n",
      "\n",
      "\n",
      ">AF1923501/1-26\n",
      "G------------------------------------------------------------------AGGAAAGUCCCGCCUCCUGGCCUAA---AGGAGUCU-CUAUAGAGACAAGGGCAACACCCUUGGCAACUAUACAGAAACAAGUACCUUGAAAGCUACAU-GUGAAAAUGAUU--GUGCCCCUUCCUCUG----------------------------GUAACGGAGGAAGAAA-----------------------------------------------------------------------------C-AUGA-GAGUAG--------------------CUUUCAAGGAUGAAAAGAU-AGACCUCCUA-GGAGCAAGUAGAGGGAAAGAUGAG--------------------------------------------ACUAGGCCCGAUUUCCCUCUAGGACGCAUAGCCAAAUCCCCCAACCAUUACAAAAGCGGGCUUA-------------------\n",
      ">AF1923491/1-262\n",
      "-------------------------------------------------------------------AGGAAAGUCCCGCCUCCAGAUCA---AGGGAAGUCC-CGCGAGGGACAAGGGUAGUACCCUUGGCAACUGCACAGAAAACUU-ACCCCUAAAUAUUCAAUGAGGAUUUGAUU--CG-ACUCUUACCUUG----------------------------GCGACAAGGUAAGAUA-----------------------------------------------------------------------------G-AUGAAGAGAAU--------------------AUUUAGGGGUUGAAAC-GC-AGUCCUUCCC-GGAGCAAGUAGGGGGGUCAAUGAG--------------------------------------------AAUGAUCUGAAGACCUCC-CUUGACGCAUAGUCGAAUCCCCCAA---AUACAGAAGCGGGCUUA-------------------\n",
      ">AF1217731/1-303\n",
      "UAGGGG---AGCCUA-ACA-GGGGGCCA------------------------CGGG-AAA----CUGGGGAAACUCCAGCCUCUC-GCCC--AGGGGGAGUCC-CGCGAGGGACGGGGUUAGGUGCUCCGACAACUGCACAGAAACGAG-ACCUGCGGUGGGCCAG-AUGAAAAUGAUC--AU-UUACCCCAUCUG----------------------------GCGACGGAUGGGAGGG-----------------------------------------------------------------------------UG-UGAG-AGACC--------------------UAUCGUGGGUUGAAACGGC-AGAUCUCCCCUUGAGCAAGUAG-GGGAG-GA----UAGGGCAAA--AUGA-----------------CUCCC-------------------------CUGAUACGCAGAGCCUAAUCCCCCAA---GUACAGAAGCUGGGUUAUUGUUAGGCUCCCC-----\n",
      ">AE0066621/4933-4623\n",
      "UAUGGG---AUCCCUAGC--GGGGGUAA------------------------CGGGGCAAAC-CCUGAGGAAACUCCGGCCUCCAACCCU--UACAAGAACCC-CGUAAGGGGUAGGGAUAGAAUCCCUGGCUACUACACAGAAACGA--AGCCCUAAUACUAGAUA-----GAUGAUU--G-GACCUACUAGCAA----------------------------GUAAUUGCUAGUAGUA-----------------------------------------------------------------------------C-AUGAU-AGAUGAAAG----------------UAUUAGGGCUUGAAACGGU-AGACCUCUUG-GGAGCAAGUUGAAGGGG-GAUGAG--------------------------------------------CAAAGGGUUGACUCCU-UAUAGUACGCUUAGUCGAAUCCCCUCA---GUACAGAAGCCGGGUUAUGCUAGGGAUCCCU----A\n",
      ">L135971/422-736\n",
      "UAGGGG---AGCCUA-ACA-GGGGGUUA------------------------CGGGA-AUAU-CCUGAGGAAACUCCAGCCUCCAAGCCU--CAUGGGAGCAGU-UAGAUCU-GCAGGGUUAGUGCUCUGGCUACUGCACAGAAACGUAA-CCGGUAUAAUAGGAU-AUGAAAAUGAGU--UUAUAUGUAGUCUAG----------------------------GUAACUAGGCUACAUA-----------------------------------------------------------------------------A-AUGA-GACCUA--------------------UUAUACCGGCUGAAACGGC-AGUCCUCCCA-GGAGCAAGUAAGGAGGG-GAUGAG--------------------------------------------UUGAGGUUCAACCCUCCU-AAGGACGCUUAGUAGAAUCCCCCUAAAU--ACAAAAGCUGGGUUAUUGUUAGGCUCCCCUUA-U\n",
      ">AF1923621/1-260\n",
      "GAGGAA---AGUCCAGC---------------------------------------------------------------CUCCAACCCU--UACAAGAACCC-CGUAAGGGGUAGGGAUAGAAUCCCUGGCUACUACACAGAAACGA--AGCCCUAAUACUAGAUA-----GAUGAUU--G-GACCUACUAGCAA----------------------------GUAAUUGCUAGUAGUA-----------------------------------------------------------------------------CGAUAAU--GAUGAAAG----------------UAUUAGGGCUUGAAACGGU-AGACCUCUUG-GGAGCAAGUUGAAGGGG-GAUGAG--------------------------------------------CAAAGGGUUGACUCCU-UAUAGUACGCUUAGUCGAAUCCCCUCA---GUACAAAAGC-----------UGGCUU--------A\n",
      ">AF1923631/1-259\n",
      "GAGGAA---ACUGCAGC---------------------------------------------------------------CUCCAACCCU--UACAAGAACCC-CGUAAGGGGUAGGGAUAGAAUCCCUGGCUACUACACAGAAACGA--AGCCCUAAUACUAGAUA-----GAUGAUU--G-GACCUACUAGCAA----------------------------GUAAUUGCUAGUAGUA-----------------------------------------------------------------------------C-AUGAU-AGAUGAAAG----------------UAUUAGGACUUGAAACGGU-AGACCUCUUG-GGAGCAAGUUGAAGGGG-GAUGAG--------------------------------------------CAAAGGGUUAGCUCCA-UAU-GUACGCUUAGUCGAAUCCCCUCA---GUACAAAAGC-----------UGGCUU--------A\n",
      ">U429831/1-375\n",
      "GGCAGAGGGAGCCCGGCUGCCCGUG-----CCGUGA------------------------GG-CAUGAGGAAAGUCCCCCCACCCGUUCGGGCACGCGGCCGGACACACGUCCGGGGCGGGAGACCGCCGGCACUGGAACAGACACGACA-CGUCCCUCCCAC-AC-C-GAUGAGGCGCGC-----GACCCACCCC-----------GAAAGGG---ACGGCAGUUAACCCGCCGAGGGCG-UGGCCGCCACACCGGCGGCCACG---------------------GACCG------------------------------GU-GAUCG--ACACC-CCAA-----UGGGAGGGGAGCGAUGGAACGGCCAACCCCCGCC-GGUGCAAGUCCACGCGC-GCAUGGUAGCCCGA------------------------ACCACCCGAAA----------GGGGCCG-C-GUGGACGCUCAGCCGAAUGCCGGGCCGA--ACAGAAGGGGGCUUA---CUCCCCUCAGCUCGUA\n",
      ">U429811/1-475\n",
      "GGCAGAGAGAGCCCGGCCA-CCGCGGCGUACCGACAGGCACACACGUGCCAGCGGGU-ACGCACGCGAGGAAAGUCCCCCCAC-CG-CCGGGCAGGUGACCGGGG-AAACCCCGGGACGGGAGACCGUCGGCGCUGGAACAGCAACGAGA-CCCCUCCACCC-GAC-C-GAUGAGGCGCGGGCGGUGGCAUCGCCACCGUCUCGGCGCGAGCGGCACGGGGUGCAUCGUGCGCCCCG---AAGCGAGCGGGCACCGCCCGCGACGCAGCCGCGAGCGUGCGAACCCGACGCAAAACGGCCACUGGUCGGACAAAGCAA-CGGG-GAGCUAACCCGCCGAGGGAUGAGGGUGGAGAACGGAUGGAACGGCGAAUCCUCACC-GGUGCAAGUCCACGCCA----------------CGCGGAU-----------CG-GCCGC--ACGGUAG------CCCGGCAGGGAC-GUGGACGCUCAGCCGAAUGCCGGGGCGA--ACAGAAGGGGGCUUA---CUCCUCUCAGCCAUGU\n",
      ">M610031/281-714\n",
      "GGCAGAGAGAGCCCAGUUC-CCGUGCCCGA-------------------------GA-CGGG-CAUGAGGAAAGUCCCCCCAC-CGUCCGAACGGGUGACCGGGCGCAAGCCCGGAGUCGGAGACGGCUGGCGCUGGAACAGAAACGAGA-CCGCUCGACCC-GAC-C-GAUGAUGCGCGCGCGACGGCUCCGCCGUCGC--CG------------GCGCGGCCGUCACGGCCGCGUGCGAACCGACCCGUAAGGGAA-----GGGAGCUAACCCGCA--------GAGGGAUGAG----GUGGCGUCG----------------------CCAUCUCCGA-----CGGUCGAGAACGGAUGGAACGGCGAAUCCUCACC-GGUGCAAGUCCGCGCCGCGAAGGGUAGUUCGGACGGCGCGUCGGGUUCGCCCGUCGCGCCCUCGGGGGGCUCGCCCCGAGAAGGAC-GCGGACGCUGAGCCGAAUGCUGGGACGA--ACAGAAGGGGGCUUA---CUCCUCUCAGCCGCUU\n",
      ">U429821/1-358\n",
      "GGCAGAGAGAGCCCGGCCA-CCGCGGCGUGCCAGCA-GCACGCAGCUGCCAGCGGGC-ACGCACGCGAGGAAAGUCCCCCCAC-CG-CCGGGCAGGUGACCGGGG-AAACCCCGGGACGGGAGACCGUCGGCGCUGGAACAGCAACGAGA-CCGCUCCCCCGCGAG-U-G----------------------------------GAUGACGUGGCGCG----------------------AACCGACCCGCGAGGGAA-----GGGAGCUAACCCACA--------GAACGCAG------ACCGGG--------------------------------------------GGAGAACGGAUGGAACGGCGAACCCUCACC-GGUGCAAGUCCACGCCA----------------CGCGGCG-----------CGAGCCGC--ACGGUAG------CCCGGCAGGGAC-GUGGACGCUCAGCCGAAUGCCGGGACGA--ACAGAAGGGGGCUUA---CUCCUCUCAGCC----\n",
      "\n"
     ]
    }
   ],
   "source": [
    "lara_exe = os.path.join(os.getcwd(), \"lara-1.3.2\", \"lara\")\n",
    "lara_path = os.path.join(os.getcwd(), \"lara-1.3.2\")\n",
    "fasta_path = os.path.join(os.getcwd(), \"inputs\", input_file)\n",
    "\n",
    "cmd_lara = lara_exe + \" -i \" + fasta_path\n",
    "\n",
    "#enter the lara folder\n",
    "os.chdir(lara_path)\n",
    "\n",
    "#run the timer\n",
    "timer = ExecutionTime()\n",
    "#execute the old lara\n",
    "proc = subprocess.Popen([cmd_lara], stdout=subprocess.PIPE, shell=True)\n",
    "#output the old lara results\n",
    "(out, err) = proc.communicate()\n",
    "#print the time required for the operation\n",
    "print('Old Lara computation finished in {} seconds.'.format(timer.duration()))\n",
    "print (out)\n",
    "#leave the old lara folder\n",
    "os.chdir(\"..\")"
   ]
  },
  {
   "cell_type": "markdown",
   "metadata": {
    "collapsed": true
   },
   "source": [
    "# ---- run Lara2 ---- #"
   ]
  },
  {
   "cell_type": "code",
   "execution_count": 6,
   "metadata": {
    "collapsed": false
   },
   "outputs": [
    {
     "name": "stdout",
     "output_type": "stream",
     "text": [
      "Lara2 computation finished in 0.147355794907 seconds.\n",
      "../cmake-build-release/laragu -i ./apps/lara2/test/inputs/rna.fasta -t 2 -a -lgo -2 -lge -1 -lbm 1 -ssc 10 -tcm 2 -tb 0.2 -v 0 -td ./tmp\n"
     ]
    }
   ],
   "source": [
    "lara2_path = \"../cmake-build-release/laragu\"\n",
    "fasta_path2 = os.path.join(\"inputs\", input_file)\n",
    "\n",
    "cmd_lara2 = lara2_path + \" -i \" + fasta_path2 + \" -t 2 -a -lgo -2 -lge -1 -lbm 1 -ssc 10 -tcm 2 -tb 0.2 -v 0 -td ./tmp\"\n",
    "#TODO check the lara program with this input file\n",
    "#run the timer\n",
    "timer = ExecutionTime()\n",
    "#execute the lara2\n",
    "proc = subprocess.Popen([cmd_lara2], stdout=subprocess.PIPE, shell=True)\n",
    "#output the lara2 results\n",
    "(out, err) = proc.communicate()\n",
    "#print the time required for the operation\n",
    "print('Lara2 computation finished in {} seconds.'.format(timer.duration()))\n",
    "#print (out)\n",
    "print (cmd_lara2)"
   ]
  },
  {
   "cell_type": "markdown",
   "metadata": {},
   "source": [
    "# ---- run old t-coffee src ---- #\n",
    "tcoffee_location -in=/tmp/tcoffeLara.lib -case=upper -output fasta -clean_seq_name 1 -outfile /tmp/tcoffeeLara.aln -newtree /tmp/tcoffeeLara.dnd 2> /dev/null > /dev/null "
   ]
  },
  {
   "cell_type": "code",
   "execution_count": 7,
   "metadata": {
    "collapsed": false
   },
   "outputs": [
    {
     "name": "stdout",
     "output_type": "stream",
     "text": [
      "TCoffee computation finished in 26.7671120167 seconds.\n",
      "CLUSTAL FORMAT for T-COFFEE Version_5.05 [http://www.tcoffee.org], CPU=26.62 sec, SCORE=27, Nseq=11, Len=557 \n",
      "\n",
      "AE0066621/4933-4623  --UAU-GGGAUCCCUAGCGG-------------------------GGGUAA-CGGGGCAA\n",
      "AF1923621/1-260      ------------------------------------------------------------\n",
      "AF1923631/1-259      ------------------------------------------------------------\n",
      "AF1923491/1-262      ------------------------------------------------------------\n",
      "AF1923501/1-26       ------------------------------------------------------------\n",
      "L135971/422-736      --UAG-GGGAGC-CUAA-----------------CAGG-------GGGUUA-CGGG-AAU\n",
      "M610031/281-714      GGCAGAGAGAGC-CCAGUU-----------------------CCCGUGCC--CGAG--AC\n",
      "U429811/1-475        GGCAGAGAGAGC-CCGGCCACCGCGGCGUACCGACAGGCACACACGUGCCAGCGGG-UAC\n",
      "U429821/1-358        GGCAGAGAGAGC-CCGGCCACCGCGGCGUGCCAGCA-GCACGCAGCUGCCAGCGGG-CAC\n",
      "U429831/1-375        GGCAGAGGGAGC-CCGGCUGCC----------------------CGUGC---CGUG--A-\n",
      "AF1217731/1-303      --UAG-GGGAG-CCUAA-----------------CAGG-------GGGCCA-CGGG-AAA\n",
      "                                                                                 \n",
      "\n",
      "AE0066621/4933-4623  A-CCCUGAGGAAACUCCGGCCUCCAACCCUUACAAGAACCCC--GUAAGGGGUAGGGA--\n",
      "AF1923621/1-260      ------GAGGAAAGUCCAGCCUCCAACCCUUACAAGAACCCC--GUAAGGGGUAGGGA--\n",
      "AF1923631/1-259      ------GAGGAAACUGCAGCCUCCAACCCUUACAAGAACCCC--GUAAGGGGUAGGGA--\n",
      "AF1923491/1-262      -------AGGAAAGUCCCGCCUCCAGAUCAAG-GGAAGUCCC--GCGAGGGACAAGGG--\n",
      "AF1923501/1-26       ------GAGGAAAGUCCCGCCUCCUGGCCUAA-AGGAGUCUC--UAUAGAGACAAGGG--\n",
      "L135971/422-736      A-UCCUGAGGAAACUCCAGCCUCCAAGCCUCAUGGGAG--CAGUUAGAUCUGCAGGGU--\n",
      "M610031/281-714      GGGCAUGAGGAAAGUCCCCCCACC-GUCCGAACGGGUGACCGGGCGCAAGCCCGGAGUCG\n",
      "U429811/1-475        GCACGCGAGGAAAGUCCCCCCACC-G-CCGGGCAGGUGACCGGG-GAAACCCCGGGACGG\n",
      "U429821/1-358        GCACGCGAGGAAAGUCCCCCCACC-G-CCGGGCAGGUGACCGGG-GAAACCCCGGGACGG\n",
      "U429831/1-375        -GGCAUGAGGAAAGUCCCCCCACCCGUUCGGGCACGCGGCCGGACACACGUCCGGGGCGG\n",
      "AF1217731/1-303      ----CUGGGGAAACUCCAGCCUCUCGCCCAGG-GGGAGUCCC--GCGAGGGACGGGGU--\n",
      "                             ***** * *  ** *     *                  *            \n",
      "\n",
      "AE0066621/4933-4623  UAGAAUCCCUGGCUACUACACAGA-AACGA--AGCCC-UAAUACUA-GAUAGA----UGA\n",
      "AF1923621/1-260      UAGAAUCCCUGGCUACUACACAGA-AACGA--AGCCC-UAAUACUA-GAUAGA----UGA\n",
      "AF1923631/1-259      UAGAAUCCCUGGCUACUACACAGA-AACGA--AGCCC-UAAUACUA-GAUAGA----UGA\n",
      "AF1923491/1-262      UAGUACCCUUGGCAACUGCACAGAAAACUU--ACCCC-UAAAUAUUCAAUGA-----GGA\n",
      "AF1923501/1-26       CAACACCCUUGGCAACUAUACAGA-AACAAGUACCUU-GAAAGCUA-CAUGU-----GAA\n",
      "L135971/422-736      UAG-UGCUCUGGCUACUGCACAGA-AACGUAA--CCG-GUAUAAUAGGAUAU-----GAA\n",
      "M610031/281-714      GAG-ACGGCUGGCGCUGGAACAGA-AACGAGA--CCG-CUCGACC-CGACCGAUGAUG-C\n",
      "U429811/1-475        GAG-ACCGUCGGCGCUGGAACAGC-AACGAGA--CCC-CUCCACC-CGACCGAUGAGG-C\n",
      "U429821/1-358        GAG-ACCGUCGGCGCUGGAACAGC-AACGAGA--CCG-CUCCCCCGCGAGUG--GAUGAC\n",
      "U429831/1-375        GAG-ACCGCCGGCACUGGAACAGA-CACGACA--CG--UCCCUCCCACACCGAUGAGG--\n",
      "AF1217731/1-303      UAGGUGCUCCGACAACUGCACAGA-AACGA--GACCUGCGGUGGGC-CAGAU-----GAA\n",
      "                      *        * *      ****   **      *             *           \n",
      "\n",
      "AE0066621/4933-4623  UUG---------------------------------------------------------\n",
      "AF1923621/1-260      UUG---------------------------------------------------------\n",
      "AF1923631/1-259      UUG---------------------------------------------------------\n",
      "AF1923491/1-262      UUU---------------------------------------------------------\n",
      "AF1923501/1-26       AAU---------------------------------------------------------\n",
      "L135971/422-736      AAU---------------------------------------------------------\n",
      "M610031/281-714      GC-GCGCGACGGCUCCGCCGUCG-C-CGGCGCGGCCGUCA--C-GGCCGCGUGCGA-ACC\n",
      "U429811/1-475        GC-GGGCGGUGGCAUCGCCACCGUCUCGGCGCGAGCGGCA--CGGGGUGCAU-CGU-G-C\n",
      "U429821/1-358        GUGGCGCG----------------------------------------------------\n",
      "U429831/1-375        -C-GCGCGAC-CCACC-CCGAAA----GGGACGGCAGUUAACC-CGCCGAGGGCGUGGCC\n",
      "AF1217731/1-303      AAU---------------------------------------------------------\n",
      "                                                                                 \n",
      "\n",
      "AE0066621/4933-4623  ----------------GA-CCUACUAGCAAG-------------------------UAAU\n",
      "AF1923621/1-260      ----------------GA-CCUACUAGCAAG-------------------------UAAU\n",
      "AF1923631/1-259      ----------------GA-CCUACUAGCAAG-------------------------UAAU\n",
      "AF1923491/1-262      ----------------GAUUCGACU--CUUA-------------------------CCUU\n",
      "AF1923501/1-26       ----------------GAUUGUGCCC-CUUCCUCUG------------------------\n",
      "L135971/422-736      ----------------GAGUUUAUAU-GUAG-------------------------UCUA\n",
      "M610031/281-714      GACCCGUAAGGGAAGGGAGCUAACCC-GCAGAG-GGAUGAGGUGGCGUCGCCAUCUCCGA\n",
      "U429811/1-475        GCCCCGAAGCGAGCGGGCACC-GCCC-GCGACGCAGCCGCG--AGCGU-GCGAAC-CCGA\n",
      "U429821/1-358        ------AACCGA-----------------------CCCGCG--AGGGA-AG---------\n",
      "U429831/1-375        G--CCACACCGG-CGG--------CC-AC-----GGAC-CGGUG--AUCGACA-CCCCAA\n",
      "AF1217731/1-303      ----------------GAU-CAUUUACCCCA-------------------------UC-U\n",
      "                                                                                 \n",
      "\n",
      "AE0066621/4933-4623  U--------------------------------GCUAGUAG------UACAUGAUAGAUG\n",
      "AF1923621/1-260      U--------------------------------GCUAGUAG------UACGAUAAUGAUG\n",
      "AF1923631/1-259      U--------------------------------GCUAGUAG------UACAUGAUAGAUG\n",
      "AF1923491/1-262      G--------------------------------GCGACAAGGU----AAGAUAGAUGAAG\n",
      "AF1923501/1-26       ---------------------------------GUAACGGAGG----AAGAAACAUGA-G\n",
      "L135971/422-736      G--------------------------------GUAACUAGGC----UACAUAAAUGA-G\n",
      "M610031/281-714      CG-----------------------------------------------------GUC--\n",
      "U429811/1-475        CGCAAAACGGCCACUGGUCGGACAAAGCAACGGGGAGCUAACC----CGCCGAGGGAU-G\n",
      "U429821/1-358        ---------------------------------GGAGCUAACC----CACAGAACGCA-G\n",
      "U429831/1-375        UG----------------------------------------------------------\n",
      "AF1217731/1-303      G--------------------------------GCGACGGAUGGGAGGGUGUGAGAGAC-\n",
      "                                                                                 \n",
      "\n",
      "AE0066621/4933-4623  A---AAGUAUUAG-GGCUUGAAACGGU-AGAC-CUCUUGGGAGCAAGUUGAAGGG-----\n",
      "AF1923621/1-260      A---AAGUAUUAG-GGCUUGAAACGGU-AGAC-CUCUUGGGAGCAAGUUGAAGGG-----\n",
      "AF1923631/1-259      A---AAGUAUUAG-GACUUGAAACGGU-AGAC-CUCUUGGGAGCAAGUUGAAGGG-----\n",
      "AF1923491/1-262      AGA-AUAUUUAGG-GG-UUGAAAC-GC-AGUC-CUUCCCGGAGCAAGUAGGGGGGUC---\n",
      "AF1923501/1-26       AGU-AGCUUUCAA-GG-AUGAAAAGAU-AGAC-CUCCUAGGAGCAAGUAGAGGGAA----\n",
      "L135971/422-736      ACC-UAUUAUACC-GG-CUGAAACGGC-AGUC-CUCCCAGGAGCAAGUAA-------GGA\n",
      "M610031/281-714      -------GAGAAC-GG-AUGGAACGGCGAAUC-CUCACCGGUGCAAGUCCGCGCCGCGAA\n",
      "U429811/1-475        AG-GGUGGAGAAC-GG-AUGGAACGGCGAAUC-CUCACCGGUGCAAGUCCACGCCACGC-\n",
      "U429821/1-358        ACCGGGGGAGAAC-GG-AUGGAACGGCGAACC-CUCACCGGUGCAAGUCCACGCCACGC-\n",
      "U429831/1-375        ---GGAGGGGAGC--G-AUGGAACGGCCAACC-CCCGCCGGUGCAAGUCCACGC-GCGCA\n",
      "AF1217731/1-303      ------CUAUCGUGGG-UUGAAACGGC-AGAUCUCCCCUUGAGCAAGUAGGGGAG-----\n",
      "                                       ** **     *           * ******            \n",
      "\n",
      "AE0066621/4933-4623  ---------GGAUGAGCAA-AGGGUUGA-----------------------CUCCUU---\n",
      "AF1923621/1-260      ---------GGAUGAGCAA-AGGGUUGA-----------------------CUCCUU---\n",
      "AF1923631/1-259      ---------GGAUGAGCAA-AGGGUUAG-----------------------CUCCAU---\n",
      "AF1923491/1-262      ----------AAUGAG-AA-UGAUCUGA-----------------AG--ACCUC------\n",
      "AF1923501/1-26       ---------AGAUGAGACU-AGGCCCGA----------------------UUUCCCU---\n",
      "L135971/422-736      GG-------GGAUGAGUUG-AGGUUCAA-------------------------CCCUCCU\n",
      "M610031/281-714      GGGUAGUUCGGACGGCGCGUCGGGUUCGCCCGUCGCGCCCUCGGGGGGCUCGCCCCGAGA\n",
      "U429811/1-475        ---------GGAUCG----------------GCCGC----ACGGUAG------CCCGGCA\n",
      "U429821/1-358        ---------GGCGCG---------------AGCCGC----ACGGUAG------CCCGGCA\n",
      "U429831/1-375        UGGUAGCCCGAAC--------------------------------------CACCCGAAA\n",
      "AF1217731/1-303      ---------GAUAGGGCAA-A---AUGA-----------------------CUCCCC---\n",
      "                                                                          *      \n",
      "\n",
      "AE0066621/4933-4623  -------AUAGUACGCUUAGUCGAAUCCCCU---CAGUACAGAAGCCGGGUUAUGCUAGG\n",
      "AF1923621/1-260      -------AUAGUACGCUUAGUCGAAUCCCCU---CAGUACAAAAGCUGGCUUA-------\n",
      "AF1923631/1-259      -------AU-GUACGCUUAGUCGAAUCCCCU---CAGUACAAAAGCUGGCUUA-------\n",
      "AF1923491/1-262      -------CCUUGACGCAUAGUCGAAUCCCCC---AAAUACAGAAGCGGGCUUA-------\n",
      "AF1923501/1-26       -------CUAGGACGCAUAGCCAAAUCCCCCAACCAUUACAAAAGCGGGCUUA-------\n",
      "L135971/422-736      --------AAGGACGCUUAGUAGAAUCCCCCUA--AAUACAAAAGCUGGGUUAUUGUUAG\n",
      "M610031/281-714      AGG---ACGCGGACGCUGAGCCGAAUGCUGGGA--CGAACAGAAGGGGGCUUA-------\n",
      "U429811/1-475        GGG---ACGUGGACGCUCAGCCGAAUGCCGGGG--CGAACAGAAGGGGGCUUA-------\n",
      "U429821/1-358        GGG---ACGUGGACGCUCAGCCGAAUGCCGGGA--CGAACAGAAGGGGGCUUA-------\n",
      "U429831/1-375        GGGGCCGCGUGGACGCUCAGCCGAAUGCCGGGC--CGAACAGAAGGGGGCUUA-------\n",
      "AF1217731/1-303      --------UGAUACGCAGAGCCUAAUCCCCC---AAGUACAGAAGCUGGGUUAUUGUUAG\n",
      "                                 ****  **   *** *          *** ***  ** ***       \n",
      "\n",
      "AE0066621/4933-4623  G--------AUCCCUA-\n",
      "AF1923621/1-260      -----------------\n",
      "AF1923631/1-259      -----------------\n",
      "AF1923491/1-262      -----------------\n",
      "AF1923501/1-26       -----------------\n",
      "L135971/422-736      GCUCCCCUUAU------\n",
      "M610031/281-714      -CUCCUCUCAGCCGCUU\n",
      "U429811/1-475        -CUCCUCUCAGCCAUGU\n",
      "U429821/1-358        -CUCCUCUCAGCC----\n",
      "U429831/1-375        -CUCCCCUCAGCUCGUA\n",
      "AF1217731/1-303      GCUCCCC----------\n",
      "                                      \n",
      "\n",
      "\n",
      "\n",
      "\n",
      "./lara-1.3.2/t_coffee/t_coffee_5.05 -in=./tmp/tcoffeLara.lib -case=upper -output fasta -clean_seq_name 1 -outfile ./tmp/tcoffeeOldLara.aln -newtree ./tmp/tcoffeeOldLara.dnd\n"
     ]
    }
   ],
   "source": [
    "tcoffee_path = \"./lara-1.3.2/t_coffee/t_coffee_5.05\"\n",
    "in_file_path =  \"./tmp/tcoffeLara.lib\"\n",
    "\n",
    "cmd_part1 = tcoffee_path + \" -in=\" + in_file_path + \" -case=upper -output fasta -clean_seq_name 1 -outfile \"\n",
    "\n",
    "out_file_path = \"./tmp/tcoffeeOldLara.aln\"\n",
    "tree_file_path = \"./tmp/tcoffeeOldLara.dnd\"\n",
    "\n",
    "#os.mkdir(\"mkdir ~/.t_coffee 2> /dev/null\")\n",
    "cmd_tcoffee = cmd_part1 + out_file_path  + \" -newtree \" + tree_file_path #+ \" 2> /dev/null > /dev/null \"\n",
    "\n",
    "#run the timer\n",
    "timer = ExecutionTime()\n",
    "#execute the tcoffee\n",
    "proc = subprocess.Popen([cmd_tcoffee], stdout=subprocess.PIPE, shell=True)\n",
    "#output the tcoffee results\n",
    "(out, err) = proc.communicate()\n",
    "#print the time required for the operation\n",
    "print('TCoffee computation finished in {} seconds.'.format(timer.duration()))\n",
    "print (out)\n",
    "print (cmd_tcoffee)"
   ]
  },
  {
   "cell_type": "markdown",
   "metadata": {},
   "source": [
    "# ---- run new seqan::t-coffee src ---- #"
   ]
  },
  {
   "cell_type": "code",
   "execution_count": 8,
   "metadata": {
    "collapsed": false
   },
   "outputs": [
    {
     "name": "stdout",
     "output_type": "stream",
     "text": [
      "TCoffee computation finished in 0.236622095108 seconds.\n",
      "\n",
      "seqan_tcoffee -s ./inputs/rna.fasta -l ./tmp/tcoffeLara.lib -m global -a rna  -o ./tmp/tcoffeeLara.msf -b wavg \n"
     ]
    }
   ],
   "source": [
    "tcoffee_path = \"seqan_tcoffee\"\n",
    "in_file_path = \"./tmp/tcoffeLara.lib\"\n",
    "\n",
    "cmd_part1new = tcoffee_path + \" -s ./inputs/\" + input_file + \" -l \" + in_file_path + \" -m global -a rna \"\n",
    "\n",
    "out_file_path_tc2 = \"./tmp/tcoffeeLara.msf\"\n",
    "\n",
    "cmd_tcoffeeNew = cmd_part1new + \" -o \" + out_file_path_tc2 + \" -b wavg \"\n",
    "\n",
    "#run the timer\n",
    "timer = ExecutionTime()\n",
    "#execute the tcoffee\n",
    "proc = subprocess.Popen([cmd_tcoffeeNew], stdout=subprocess.PIPE, shell=True)\n",
    "#output the tcoffee results\n",
    "(out, err) = proc.communicate()\n",
    "#print the time required for the operation\n",
    "print('TCoffee computation finished in {} seconds.'.format(timer.duration()))\n",
    "print (out)\n",
    "print (cmd_tcoffeeNew)"
   ]
  },
  {
   "cell_type": "markdown",
   "metadata": {},
   "source": [
    "## Compute consensus structure with: i) RNAalifold, ii) ipknot, iii) centroid-rna"
   ]
  },
  {
   "cell_type": "code",
   "execution_count": 20,
   "metadata": {
    "collapsed": false
   },
   "outputs": [
    {
     "name": "stdout",
     "output_type": "stream",
     "text": [
      "SingleLetterAlphabet() alignment with 11 rows and 532 columns\n",
      "uauggg---aucccuagc--ggggguaa----------------...--a AE0066621/4933-4623\n",
      "gaggaa---aguccagc---------------------------...--a AF1923621/1-260\n",
      "gaggaa---acugcagc---------------------------...--a AF1923631/1-259\n",
      "--------------------------------------------...--- AF1923491/1-262\n",
      "g-------------------------------------------...--- AF1923501/1-26\n",
      "uagggg---agccua-aca-ggggguua----------------...a-u L135971/422-736\n",
      "ggcagagagagcccaguuc-ccgugcccga--------------...cuu M610031/281-714\n",
      "ggcagagagagcccggcca-ccgcggcguaccgacaggcacaca...ugu U429811/1-475\n",
      "ggcagagagagcccggcca-ccgcggcgugccagca-gcacgca...--- U429821/1-358\n",
      "ggcagagggagcccggcugcccgug-----ccguga--------...gua U429831/1-375\n",
      "uagggg---agccua-aca-gggggcca----------------...--- AF1217731/1-303\n"
     ]
    }
   ],
   "source": [
    "from Bio import AlignIO\n",
    "align = AlignIO.read(\"./tmp/old/tcoffeeLara.aln\", \"fasta\")\n",
    "print(align)"
   ]
  },
  {
   "cell_type": "code",
   "execution_count": 23,
   "metadata": {
    "collapsed": true
   },
   "outputs": [],
   "source": [
    "input_handle = open(\"./tmp/old/tcoffeeLara.aln\", \"rU\")\n",
    "output_handle = open(\"./tmp/old/tcoffeeLara.clustalw\", \"w\")\n",
    "#output_handle2 = open(\"./tmp/old/tcoffeeLara.stk\", \"w\")\n",
    "\n",
    "alignments = AlignIO.parse(input_handle, \"fasta\")\n",
    "AlignIO.write(alignments, output_handle, \"clustal\")\n",
    "#AlignIO.write(alignments, output_handle2, \"stockholm\")\n",
    "\n",
    "output_handle.close()\n",
    "input_handle.close()\n"
   ]
  },
  {
   "cell_type": "markdown",
   "metadata": {},
   "source": [
    "## Visualize the computed structures"
   ]
  },
  {
   "cell_type": "markdown",
   "metadata": {},
   "source": []
  }
 ],
 "metadata": {
  "kernelspec": {
   "display_name": "Python 2",
   "language": "python",
   "name": "python2"
  },
  "language_info": {
   "codemirror_mode": {
    "name": "ipython",
    "version": 2
   },
   "file_extension": ".py",
   "mimetype": "text/x-python",
   "name": "python",
   "nbconvert_exporter": "python",
   "pygments_lexer": "ipython2",
   "version": "2.7.12"
  }
 },
 "nbformat": 4,
 "nbformat_minor": 1
}
